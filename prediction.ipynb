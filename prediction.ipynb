{
 "cells": [
  {
   "cell_type": "code",
   "execution_count": 1,
   "metadata": {},
   "outputs": [],
   "source": [
    "# Step 1: Import Libraries and Load the Model\n",
    "import numpy as np\n",
    "import tensorflow as tf\n",
    "from tensorflow.keras.datasets import imdb\n",
    "from tensorflow.keras.preprocessing import sequence\n",
    "from tensorflow.keras.models import load_model"
   ]
  },
  {
   "cell_type": "code",
   "execution_count": 2,
   "metadata": {},
   "outputs": [],
   "source": [
    "\n",
    "# Load the IMDB dataset word index\n",
    "word_index = imdb.get_word_index()\n",
    "reverse_word_index = {value: key for key, value in word_index.items()}"
   ]
  },
  {
   "cell_type": "code",
   "execution_count": 3,
   "metadata": {},
   "outputs": [
    {
     "name": "stderr",
     "output_type": "stream",
     "text": [
      "WARNING:absl:Compiled the loaded model, but the compiled metrics have yet to be built. `model.compile_metrics` will be empty until you train or evaluate the model.\n"
     ]
    },
    {
     "data": {
      "text/html": [
       "<pre style=\"white-space:pre;overflow-x:auto;line-height:normal;font-family:Menlo,'DejaVu Sans Mono',consolas,'Courier New',monospace\"><span style=\"font-weight: bold\">Model: \"sequential\"</span>\n",
       "</pre>\n"
      ],
      "text/plain": [
       "\u001b[1mModel: \"sequential\"\u001b[0m\n"
      ]
     },
     "metadata": {},
     "output_type": "display_data"
    },
    {
     "data": {
      "text/html": [
       "<pre style=\"white-space:pre;overflow-x:auto;line-height:normal;font-family:Menlo,'DejaVu Sans Mono',consolas,'Courier New',monospace\">┏━━━━━━━━━━━━━━━━━━━━━━━━━━━━━━━━━┳━━━━━━━━━━━━━━━━━━━━━━━━┳━━━━━━━━━━━━━━━┓\n",
       "┃<span style=\"font-weight: bold\"> Layer (type)                    </span>┃<span style=\"font-weight: bold\"> Output Shape           </span>┃<span style=\"font-weight: bold\">       Param # </span>┃\n",
       "┡━━━━━━━━━━━━━━━━━━━━━━━━━━━━━━━━━╇━━━━━━━━━━━━━━━━━━━━━━━━╇━━━━━━━━━━━━━━━┩\n",
       "│ embedding (<span style=\"color: #0087ff; text-decoration-color: #0087ff\">Embedding</span>)           │ (<span style=\"color: #00af00; text-decoration-color: #00af00\">32</span>, <span style=\"color: #00af00; text-decoration-color: #00af00\">500</span>, <span style=\"color: #00af00; text-decoration-color: #00af00\">128</span>)         │     <span style=\"color: #00af00; text-decoration-color: #00af00\">1,280,000</span> │\n",
       "├─────────────────────────────────┼────────────────────────┼───────────────┤\n",
       "│ simple_rnn (<span style=\"color: #0087ff; text-decoration-color: #0087ff\">SimpleRNN</span>)          │ (<span style=\"color: #00af00; text-decoration-color: #00af00\">32</span>, <span style=\"color: #00af00; text-decoration-color: #00af00\">128</span>)              │        <span style=\"color: #00af00; text-decoration-color: #00af00\">32,896</span> │\n",
       "├─────────────────────────────────┼────────────────────────┼───────────────┤\n",
       "│ dense (<span style=\"color: #0087ff; text-decoration-color: #0087ff\">Dense</span>)                   │ (<span style=\"color: #00af00; text-decoration-color: #00af00\">32</span>, <span style=\"color: #00af00; text-decoration-color: #00af00\">1</span>)                │           <span style=\"color: #00af00; text-decoration-color: #00af00\">129</span> │\n",
       "└─────────────────────────────────┴────────────────────────┴───────────────┘\n",
       "</pre>\n"
      ],
      "text/plain": [
       "┏━━━━━━━━━━━━━━━━━━━━━━━━━━━━━━━━━┳━━━━━━━━━━━━━━━━━━━━━━━━┳━━━━━━━━━━━━━━━┓\n",
       "┃\u001b[1m \u001b[0m\u001b[1mLayer (type)                   \u001b[0m\u001b[1m \u001b[0m┃\u001b[1m \u001b[0m\u001b[1mOutput Shape          \u001b[0m\u001b[1m \u001b[0m┃\u001b[1m \u001b[0m\u001b[1m      Param #\u001b[0m\u001b[1m \u001b[0m┃\n",
       "┡━━━━━━━━━━━━━━━━━━━━━━━━━━━━━━━━━╇━━━━━━━━━━━━━━━━━━━━━━━━╇━━━━━━━━━━━━━━━┩\n",
       "│ embedding (\u001b[38;5;33mEmbedding\u001b[0m)           │ (\u001b[38;5;34m32\u001b[0m, \u001b[38;5;34m500\u001b[0m, \u001b[38;5;34m128\u001b[0m)         │     \u001b[38;5;34m1,280,000\u001b[0m │\n",
       "├─────────────────────────────────┼────────────────────────┼───────────────┤\n",
       "│ simple_rnn (\u001b[38;5;33mSimpleRNN\u001b[0m)          │ (\u001b[38;5;34m32\u001b[0m, \u001b[38;5;34m128\u001b[0m)              │        \u001b[38;5;34m32,896\u001b[0m │\n",
       "├─────────────────────────────────┼────────────────────────┼───────────────┤\n",
       "│ dense (\u001b[38;5;33mDense\u001b[0m)                   │ (\u001b[38;5;34m32\u001b[0m, \u001b[38;5;34m1\u001b[0m)                │           \u001b[38;5;34m129\u001b[0m │\n",
       "└─────────────────────────────────┴────────────────────────┴───────────────┘\n"
      ]
     },
     "metadata": {},
     "output_type": "display_data"
    },
    {
     "data": {
      "text/html": [
       "<pre style=\"white-space:pre;overflow-x:auto;line-height:normal;font-family:Menlo,'DejaVu Sans Mono',consolas,'Courier New',monospace\"><span style=\"font-weight: bold\"> Total params: </span><span style=\"color: #00af00; text-decoration-color: #00af00\">1,313,027</span> (5.01 MB)\n",
       "</pre>\n"
      ],
      "text/plain": [
       "\u001b[1m Total params: \u001b[0m\u001b[38;5;34m1,313,027\u001b[0m (5.01 MB)\n"
      ]
     },
     "metadata": {},
     "output_type": "display_data"
    },
    {
     "data": {
      "text/html": [
       "<pre style=\"white-space:pre;overflow-x:auto;line-height:normal;font-family:Menlo,'DejaVu Sans Mono',consolas,'Courier New',monospace\"><span style=\"font-weight: bold\"> Trainable params: </span><span style=\"color: #00af00; text-decoration-color: #00af00\">1,313,025</span> (5.01 MB)\n",
       "</pre>\n"
      ],
      "text/plain": [
       "\u001b[1m Trainable params: \u001b[0m\u001b[38;5;34m1,313,025\u001b[0m (5.01 MB)\n"
      ]
     },
     "metadata": {},
     "output_type": "display_data"
    },
    {
     "data": {
      "text/html": [
       "<pre style=\"white-space:pre;overflow-x:auto;line-height:normal;font-family:Menlo,'DejaVu Sans Mono',consolas,'Courier New',monospace\"><span style=\"font-weight: bold\"> Non-trainable params: </span><span style=\"color: #00af00; text-decoration-color: #00af00\">0</span> (0.00 B)\n",
       "</pre>\n"
      ],
      "text/plain": [
       "\u001b[1m Non-trainable params: \u001b[0m\u001b[38;5;34m0\u001b[0m (0.00 B)\n"
      ]
     },
     "metadata": {},
     "output_type": "display_data"
    },
    {
     "data": {
      "text/html": [
       "<pre style=\"white-space:pre;overflow-x:auto;line-height:normal;font-family:Menlo,'DejaVu Sans Mono',consolas,'Courier New',monospace\"><span style=\"font-weight: bold\"> Optimizer params: </span><span style=\"color: #00af00; text-decoration-color: #00af00\">2</span> (12.00 B)\n",
       "</pre>\n"
      ],
      "text/plain": [
       "\u001b[1m Optimizer params: \u001b[0m\u001b[38;5;34m2\u001b[0m (12.00 B)\n"
      ]
     },
     "metadata": {},
     "output_type": "display_data"
    }
   ],
   "source": [
    "# Load the pre-trained model with ReLU activation\n",
    "model = load_model('simple_rnn_imdb.h5')\n",
    "model.summary()"
   ]
  },
  {
   "cell_type": "code",
   "execution_count": 4,
   "metadata": {},
   "outputs": [
    {
     "data": {
      "text/plain": [
       "[array([[-0.20974511, -0.3985704 ,  0.1956408 , ..., -0.18462908,\n",
       "          0.42297336, -0.21751635],\n",
       "        [ 0.0399498 ,  0.02140478, -0.02147826, ...,  0.03004018,\n",
       "         -0.04306537,  0.04415322],\n",
       "        [-0.00288417,  0.04192386, -0.03680076, ...,  0.03874091,\n",
       "         -0.0565097 ,  0.03207721],\n",
       "        ...,\n",
       "        [-0.10909561, -0.11851731,  0.04663755, ...,  0.15383358,\n",
       "          0.17743146, -0.14526302],\n",
       "        [ 0.10168681,  0.20399739, -0.18665639, ..., -0.27737677,\n",
       "         -0.02259799,  0.18309543],\n",
       "        [-0.07263363, -0.11770869,  0.11176366, ...,  0.05106575,\n",
       "         -0.05720017, -0.08113486]], dtype=float32),\n",
       " array([[ 0.13931601,  0.10207713, -0.09431604, ...,  0.1044647 ,\n",
       "          0.13146795,  0.06178922],\n",
       "        [ 0.14539754, -0.0863115 , -0.0254727 , ...,  0.11545287,\n",
       "         -0.05952046,  0.01603908],\n",
       "        [-0.0351515 ,  0.00939705, -0.19373253, ..., -0.02827124,\n",
       "         -0.0166151 ,  0.03700235],\n",
       "        ...,\n",
       "        [-0.06155286,  0.00628803, -0.03073897, ...,  0.10525043,\n",
       "          0.03924016, -0.13408653],\n",
       "        [-0.05479232, -0.15673989,  0.04642946, ...,  0.01125417,\n",
       "          0.01755539, -0.10194365],\n",
       "        [-0.1436633 , -0.09450576,  0.04936967, ..., -0.03859844,\n",
       "          0.11779186,  0.00386175]], dtype=float32),\n",
       " array([[-0.04000558,  0.07025473, -0.00162721, ..., -0.01231396,\n",
       "          0.01167969,  0.01156665],\n",
       "        [ 0.00862782,  0.0389381 , -0.20206742, ...,  0.12246561,\n",
       "         -0.2515354 ,  0.22489703],\n",
       "        [ 0.0998397 , -0.11894158,  0.02198556, ..., -0.01705487,\n",
       "          0.09719943, -0.0282112 ],\n",
       "        ...,\n",
       "        [ 0.06099221, -0.06175827, -0.05320108, ..., -0.02955827,\n",
       "          0.01884429,  0.19549164],\n",
       "        [-0.00093495,  0.02081991, -0.20492966, ..., -0.1181183 ,\n",
       "         -0.04312297,  0.02677677],\n",
       "        [-0.1116882 , -0.08883437,  0.03248043, ..., -0.02659393,\n",
       "         -0.09631231, -0.07921194]], dtype=float32),\n",
       " array([ 0.01048711,  0.04364561, -0.05929555, -0.04886689,  0.0386227 ,\n",
       "         0.0050664 ,  0.0057739 ,  0.01422583, -0.05176384,  0.00185014,\n",
       "        -0.03637138,  0.00371761, -0.05154375, -0.03646305, -0.01385274,\n",
       "         0.01129014, -0.06511922, -0.04614482, -0.03804132, -0.00018408,\n",
       "         0.01796239, -0.00709248,  0.04697095, -0.02871574, -0.03764526,\n",
       "         0.00873494, -0.03511383, -0.03028912,  0.0269137 , -0.04288821,\n",
       "         0.00802086,  0.0305169 , -0.04163526, -0.03724082, -0.04820951,\n",
       "        -0.00405009,  0.01894277,  0.00057977,  0.05246697,  0.02511448,\n",
       "         0.02089066, -0.05526604, -0.03959243, -0.03135116,  0.02873119,\n",
       "        -0.04616311, -0.04618775, -0.01820949, -0.0535793 ,  0.026334  ,\n",
       "        -0.03140437, -0.01588055,  0.02777453, -0.02550263, -0.02535577,\n",
       "        -0.05438995, -0.03087528, -0.00763382,  0.0339225 , -0.03753381,\n",
       "        -0.05406513,  0.02163171,  0.01000495,  0.00530848, -0.04820067,\n",
       "        -0.07013366, -0.03386249,  0.00523461, -0.05471206,  0.01014088,\n",
       "        -0.04347428, -0.01786857, -0.02892859, -0.03048721,  0.00366219,\n",
       "         0.02836863, -0.0056403 , -0.03195424, -0.06637543,  0.02917348,\n",
       "        -0.01892114,  0.00675204, -0.00769422, -0.0030487 , -0.02696786,\n",
       "        -0.03246187, -0.04670625,  0.04698167,  0.03843057, -0.02073913,\n",
       "        -0.00177608, -0.02521669, -0.00919974, -0.01946423, -0.05537803,\n",
       "        -0.02083284, -0.05114767,  0.03161091,  0.0347788 , -0.01951518,\n",
       "        -0.06266816, -0.02870392, -0.04837404, -0.04383332,  0.04012459,\n",
       "        -0.04513282,  0.0557053 , -0.03898237, -0.03827634,  0.0124927 ,\n",
       "         0.04425205,  0.03046543, -0.0478663 , -0.021274  ,  0.03987414,\n",
       "         0.00345504, -0.04901047, -0.014226  , -0.0361    ,  0.04801375,\n",
       "         0.06018266,  0.03158255, -0.05624908, -0.05124706, -0.01108522,\n",
       "        -0.04023586, -0.02496709,  0.00275389], dtype=float32),\n",
       " array([[ 0.2511791 ],\n",
       "        [-0.26166198],\n",
       "        [-0.00411477],\n",
       "        [ 0.11248192],\n",
       "        [-0.04609428],\n",
       "        [ 0.14728525],\n",
       "        [ 0.0720065 ],\n",
       "        [ 0.17862488],\n",
       "        [-0.07026377],\n",
       "        [-1.1087284 ],\n",
       "        [ 0.06166942],\n",
       "        [-0.20104371],\n",
       "        [ 0.22218369],\n",
       "        [ 0.18253696],\n",
       "        [ 0.06839573],\n",
       "        [-0.02760749],\n",
       "        [-0.1004407 ],\n",
       "        [ 0.07083171],\n",
       "        [ 0.17580833],\n",
       "        [-0.24210072],\n",
       "        [ 0.847513  ],\n",
       "        [ 0.14339519],\n",
       "        [-0.17170112],\n",
       "        [ 0.17607652],\n",
       "        [-0.20277596],\n",
       "        [-0.05904217],\n",
       "        [-0.08236262],\n",
       "        [-0.10194021],\n",
       "        [ 0.21059573],\n",
       "        [ 0.04271579],\n",
       "        [ 0.69785607],\n",
       "        [ 0.31508783],\n",
       "        [ 0.20196636],\n",
       "        [ 0.04017975],\n",
       "        [-0.06196167],\n",
       "        [-0.08798611],\n",
       "        [-0.01752206],\n",
       "        [ 0.02133801],\n",
       "        [-0.2541994 ],\n",
       "        [-0.00595987],\n",
       "        [-0.038474  ],\n",
       "        [ 0.14970806],\n",
       "        [ 0.01213062],\n",
       "        [ 0.0216084 ],\n",
       "        [-0.2044061 ],\n",
       "        [-0.02110152],\n",
       "        [-0.09082672],\n",
       "        [-0.05813769],\n",
       "        [ 0.06940056],\n",
       "        [-0.1459027 ],\n",
       "        [-0.10390019],\n",
       "        [ 0.2088256 ],\n",
       "        [-0.09061743],\n",
       "        [ 0.07156637],\n",
       "        [ 0.11665947],\n",
       "        [ 0.14399497],\n",
       "        [ 0.03638052],\n",
       "        [ 0.1476263 ],\n",
       "        [-0.04283025],\n",
       "        [-0.01481748],\n",
       "        [ 0.07669885],\n",
       "        [-0.255145  ],\n",
       "        [ 0.14320382],\n",
       "        [ 0.04919796],\n",
       "        [ 0.13080248],\n",
       "        [ 0.21032116],\n",
       "        [-0.07385769],\n",
       "        [ 0.03698376],\n",
       "        [ 0.26530248],\n",
       "        [ 0.01083861],\n",
       "        [ 0.12600008],\n",
       "        [ 0.16543047],\n",
       "        [ 0.04593133],\n",
       "        [-0.14027266],\n",
       "        [-0.19219078],\n",
       "        [-0.21721517],\n",
       "        [-0.14964812],\n",
       "        [ 0.1207734 ],\n",
       "        [ 0.18398069],\n",
       "        [ 0.25254586],\n",
       "        [ 0.08369355],\n",
       "        [-0.03598385],\n",
       "        [ 0.00199732],\n",
       "        [ 0.1522488 ],\n",
       "        [ 0.13349926],\n",
       "        [ 0.23405457],\n",
       "        [ 0.12508377],\n",
       "        [-0.06908829],\n",
       "        [-0.1098382 ],\n",
       "        [-0.1434978 ],\n",
       "        [-0.01237427],\n",
       "        [ 0.08428904],\n",
       "        [-0.13729306],\n",
       "        [ 0.21089555],\n",
       "        [ 0.14583981],\n",
       "        [ 0.14613852],\n",
       "        [ 0.05558462],\n",
       "        [-0.14944252],\n",
       "        [-0.01402189],\n",
       "        [-0.05696844],\n",
       "        [ 0.08354034],\n",
       "        [-0.04226059],\n",
       "        [ 0.20587622],\n",
       "        [-0.11767767],\n",
       "        [-0.20708314],\n",
       "        [ 0.11432619],\n",
       "        [-0.2475912 ],\n",
       "        [-0.1478564 ],\n",
       "        [-0.07369822],\n",
       "        [ 0.1118828 ],\n",
       "        [ 1.6571951 ],\n",
       "        [-0.12626173],\n",
       "        [-0.12597221],\n",
       "        [ 0.02897924],\n",
       "        [ 1.6042843 ],\n",
       "        [ 0.03888248],\n",
       "        [ 0.170466  ],\n",
       "        [ 0.03166364],\n",
       "        [ 0.11936612],\n",
       "        [ 0.18902302],\n",
       "        [ 0.7561706 ],\n",
       "        [ 0.14622837],\n",
       "        [-0.14307395],\n",
       "        [ 0.05111801],\n",
       "        [ 0.09672827],\n",
       "        [ 0.3181774 ],\n",
       "        [-0.029829  ],\n",
       "        [ 0.1292471 ]], dtype=float32),\n",
       " array([2.0344648], dtype=float32)]"
      ]
     },
     "execution_count": 4,
     "metadata": {},
     "output_type": "execute_result"
    }
   ],
   "source": [
    "model.get_weights()"
   ]
  },
  {
   "cell_type": "code",
   "execution_count": 5,
   "metadata": {},
   "outputs": [],
   "source": [
    "# Step 2: Helper Functions\n",
    "# Function to decode reviews\n",
    "def decode_review(encoded_review):\n",
    "    return ' '.join([reverse_word_index.get(i - 3, '?') for i in encoded_review])\n",
    "\n",
    "# Function to preprocess user input\n",
    "def preprocess_text(text):\n",
    "    words = text.lower().split()\n",
    "    encoded_review = [word_index.get(word, 2) + 3 for word in words]\n",
    "    padded_review = sequence.pad_sequences([encoded_review], maxlen=500)\n",
    "    return padded_review"
   ]
  },
  {
   "cell_type": "code",
   "execution_count": 6,
   "metadata": {},
   "outputs": [],
   "source": [
    "### Prediction  function\n",
    "\n",
    "def predict_sentiment(review):\n",
    "    preprocessed_input=preprocess_text(review)\n",
    "\n",
    "    prediction=model.predict(preprocessed_input)\n",
    "\n",
    "    sentiment = 'Positive' if prediction[0][0] > 0.5 else 'Negative'\n",
    "    \n",
    "    return sentiment, prediction[0][0]\n",
    "\n"
   ]
  },
  {
   "cell_type": "code",
   "execution_count": 7,
   "metadata": {},
   "outputs": [
    {
     "name": "stdout",
     "output_type": "stream",
     "text": [
      "\u001b[1m1/1\u001b[0m \u001b[32m━━━━━━━━━━━━━━━━━━━━\u001b[0m\u001b[37m\u001b[0m \u001b[1m0s\u001b[0m 300ms/step\n",
      "Review: This movie was fantastic! The acting was great and the plot was thrilling.\n",
      "Sentiment: Positive\n",
      "Prediction Score: 0.6738412380218506\n"
     ]
    }
   ],
   "source": [
    "# Step 4: User Input and Prediction\n",
    "# Example review for prediction\n",
    "example_review = \"This movie was fantastic! The acting was great and the plot was thrilling.\"\n",
    "\n",
    "sentiment,score=predict_sentiment(example_review)\n",
    "\n",
    "print(f'Review: {example_review}')\n",
    "print(f'Sentiment: {sentiment}')\n",
    "print(f'Prediction Score: {score}')"
   ]
  },
  {
   "cell_type": "code",
   "execution_count": null,
   "metadata": {},
   "outputs": [],
   "source": []
  },
  {
   "cell_type": "code",
   "execution_count": null,
   "metadata": {},
   "outputs": [],
   "source": []
  },
  {
   "cell_type": "code",
   "execution_count": null,
   "metadata": {},
   "outputs": [],
   "source": []
  },
  {
   "cell_type": "code",
   "execution_count": null,
   "metadata": {},
   "outputs": [],
   "source": []
  }
 ],
 "metadata": {
  "kernelspec": {
   "display_name": "Python 3",
   "language": "python",
   "name": "python3"
  },
  "language_info": {
   "codemirror_mode": {
    "name": "ipython",
    "version": 3
   },
   "file_extension": ".py",
   "mimetype": "text/x-python",
   "name": "python",
   "nbconvert_exporter": "python",
   "pygments_lexer": "ipython3",
   "version": "3.12.4"
  }
 },
 "nbformat": 4,
 "nbformat_minor": 2
}
